{
 "cells": [
  {
   "cell_type": "markdown",
   "metadata": {},
   "source": [
    "# 1st Priority\n",
    "\n",
    "If you are short on time, be sure to make it through these 3 items:\n",
    "\n",
    "- The Bash Shell\n",
    "- Git Version Control 101\n",
    "- Getting Started with Git"
   ]
  },
  {
   "cell_type": "markdown",
   "metadata": {},
   "source": [
    "# 2nd Priority\n",
    "\n",
    "- Git Practice"
   ]
  },
  {
   "cell_type": "markdown",
   "metadata": {},
   "source": [
    "# Appendix\n",
    "Once you have developed your understanding of the essential bash commands and the fundamental git workflow, the lessons in the Appendix will teach you about collaborating with git.  This will be important when you are working on teams, either at Flatiron or on the job.  You will become familiar with creating and merging branches using `git merge`, `git branch`, `git checkout`.  You will also practice resolving a merge conflict using a new command, `git stash`.  "
   ]
  },
  {
   "cell_type": "markdown",
   "metadata": {},
   "source": [
    "# Note On Lesson Priorities\n",
    "\n",
    "The items in the topics are meant to be completed sequentially. Lesson priorities are meant to help you zero in on the most important content if you are short on time. That does not mean the items marked as 2nd Priority are not important to your development as a data scientist. Rather, it means that they do not introduce concepts that are essential to progressing through the Flatiron Data Science program.\n",
    "\n",
    "You will notice that many labs are marked 2nd Priority. Labs reinforce concepts which are introduced by prior items. If you are short on time, your first priority should be to digest the concept where it has been introduced, then reinforce the concept in the lab when you have time."
   ]
  },
  {
   "cell_type": "code",
   "execution_count": null,
   "metadata": {},
   "outputs": [],
   "source": []
  }
 ],
 "metadata": {
  "kernelspec": {
   "display_name": "learn-env",
   "language": "python",
   "name": "learn-env"
  },
  "language_info": {
   "codemirror_mode": {
    "name": "ipython",
    "version": 3
   },
   "file_extension": ".py",
   "mimetype": "text/x-python",
   "name": "python",
   "nbconvert_exporter": "python",
   "pygments_lexer": "ipython3",
   "version": "3.8.5"
  }
 },
 "nbformat": 4,
 "nbformat_minor": 4
}
